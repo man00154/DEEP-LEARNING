{
 "cells": [
  {
   "cell_type": "code",
   "execution_count": 6,
   "metadata": {},
   "outputs": [
    {
     "name": "stdout",
     "output_type": "stream",
     "text": [
      "Linear Regression Mean Squared Error: 8.24082968259905\n",
      "Lasso Regression Mean Squared Error: 286.65047431509157\n",
      "Ridge Regression Mean Squared Error: 8.263350552644347\n",
      "Decision Tree Mean Squared Error: 52.996450000000394\n",
      "Random Forest Mean Squared Error: 62.05785397499755\n"
     ]
    },
    {
     "name": "stderr",
     "output_type": "stream",
     "text": [
      "c:\\Users\\Ashutosh\\Downloads\\Deep Learnig 6_8 PM Thu Fri\\repository\\venv\\Lib\\site-packages\\sklearn\\linear_model\\_coordinate_descent.py:678: ConvergenceWarning: Objective did not converge. You might want to increase the number of iterations, check the scale of the features or consider increasing regularisation. Duality gap: 1.055e+04, tolerance: 5.441e+03\n",
      "  model = cd_fast.enet_coordinate_descent(\n",
      "c:\\Users\\Ashutosh\\Downloads\\Deep Learnig 6_8 PM Thu Fri\\repository\\venv\\Lib\\site-packages\\sklearn\\linear_model\\_ridge.py:204: LinAlgWarning: Ill-conditioned matrix (rcond=7.5185e-33): result may not be accurate.\n",
      "  return linalg.solve(A, Xy, assume_a=\"pos\", overwrite_a=True).T\n"
     ]
    },
    {
     "name": "stdout",
     "output_type": "stream",
     "text": [
      "Gradient Boosting Mean Squared Error: 44.36378582073611\n",
      "KNN Mean Squared Error: 303497.56328799995\n",
      "SVM Mean Squared Error: 462987.8899882068\n",
      "Neural Network Mean Squared Error: 6.961469103466332e+24\n"
     ]
    }
   ],
   "source": [
    "# Import necessary libraries\n",
    "import numpy as np\n",
    "import pandas as pd\n",
    "from sklearn.model_selection import train_test_split\n",
    "from sklearn.linear_model import LinearRegression, Lasso, Ridge\n",
    "from sklearn.tree import DecisionTreeRegressor\n",
    "from sklearn.ensemble import RandomForestRegressor, GradientBoostingRegressor\n",
    "from sklearn.neighbors import KNeighborsRegressor\n",
    "from sklearn.svm import SVR\n",
    "from sklearn.neural_network import MLPRegressor\n",
    "from sklearn.metrics import mean_squared_error\n",
    "\n",
    "# Load Infosys stock data\n",
    "infy_data = pd.read_csv('infy_stock_data.csv')  # Replace 'infy_stock_data.csv' with your file path\n",
    "\n",
    "# Handle missing values if any\n",
    "infy_data = infy_data.dropna()  # Drop rows with missing values\n",
    "infy_data = pd.get_dummies(infy_data, columns=['Symbol','Series']) \n",
    "\n",
    "# Feature engineering (if needed)\n",
    "\n",
    "# Split the data into features and target variable\n",
    "X = infy_data.drop(columns=['Date', 'Close'])  # Assuming 'Close' is the target variable\n",
    "y = infy_data['Close']\n",
    "\n",
    "# Split data into training and testing sets\n",
    "X_train, X_test, y_train, y_test = train_test_split(X, y, test_size=0.2, random_state=42)\n",
    "\n",
    "# Linear Regression\n",
    "lr_model = LinearRegression()\n",
    "lr_model.fit(X_train, y_train)\n",
    "lr_predictions = lr_model.predict(X_test)\n",
    "lr_mse = mean_squared_error(y_test, lr_predictions)\n",
    "print(\"Linear Regression Mean Squared Error:\", lr_mse)\n",
    "\n",
    "# Lasso Regression\n",
    "lasso_model = Lasso(alpha=0.1)\n",
    "lasso_model.fit(X_train, y_train)\n",
    "lasso_predictions = lasso_model.predict(X_test)\n",
    "lasso_mse = mean_squared_error(y_test, lasso_predictions)\n",
    "print(\"Lasso Regression Mean Squared Error:\", lasso_mse)\n",
    "\n",
    "# Ridge Regression\n",
    "ridge_model = Ridge(alpha=0.1)\n",
    "ridge_model.fit(X_train, y_train)\n",
    "ridge_predictions = ridge_model.predict(X_test)\n",
    "ridge_mse = mean_squared_error(y_test, ridge_predictions)\n",
    "print(\"Ridge Regression Mean Squared Error:\", ridge_mse)\n",
    "\n",
    "# Decision Tree\n",
    "dt_model = DecisionTreeRegressor(random_state=42)\n",
    "dt_model.fit(X_train, y_train)\n",
    "dt_predictions = dt_model.predict(X_test)\n",
    "dt_mse = mean_squared_error(y_test, dt_predictions)\n",
    "print(\"Decision Tree Mean Squared Error:\", dt_mse)\n",
    "\n",
    "# Random Forest\n",
    "rf_model = RandomForestRegressor(n_estimators=100, random_state=42)\n",
    "rf_model.fit(X_train, y_train)\n",
    "rf_predictions = rf_model.predict(X_test)\n",
    "rf_mse = mean_squared_error(y_test, rf_predictions)\n",
    "print(\"Random Forest Mean Squared Error:\", rf_mse)\n",
    "\n",
    "# Gradient Boosting\n",
    "gb_model = GradientBoostingRegressor(n_estimators=100, random_state=42)\n",
    "gb_model.fit(X_train, y_train)\n",
    "gb_predictions = gb_model.predict(X_test)\n",
    "gb_mse = mean_squared_error(y_test, gb_predictions)\n",
    "print(\"Gradient Boosting Mean Squared Error:\", gb_mse)\n",
    "\n",
    "# K-Nearest Neighbors\n",
    "knn_model = KNeighborsRegressor(n_neighbors=5)\n",
    "knn_model.fit(X_train, y_train)\n",
    "knn_predictions = knn_model.predict(X_test)\n",
    "knn_mse = mean_squared_error(y_test, knn_predictions)\n",
    "print(\"KNN Mean Squared Error:\", knn_mse)\n",
    "\n",
    "# Support Vector Machine\n",
    "svm_model = SVR(kernel='rbf')\n",
    "svm_model.fit(X_train, y_train)\n",
    "svm_predictions = svm_model.predict(X_test)\n",
    "svm_mse = mean_squared_error(y_test, svm_predictions)\n",
    "print(\"SVM Mean Squared Error:\", svm_mse)\n",
    "\n",
    "# Neural Network\n",
    "nn_model = MLPRegressor(hidden_layer_sizes=(100, 50), max_iter=1000)\n",
    "nn_model.fit(X_train, y_train)\n",
    "nn_predictions = nn_model.predict(X_test)\n",
    "nn_mse = mean_squared_error(y_test, nn_predictions)\n",
    "print(\"Neural Network Mean Squared Error:\", nn_mse)\n"
   ]
  },
  {
   "cell_type": "code",
   "execution_count": null,
   "metadata": {},
   "outputs": [],
   "source": []
  }
 ],
 "metadata": {
  "kernelspec": {
   "display_name": "venv",
   "language": "python",
   "name": "python3"
  },
  "language_info": {
   "codemirror_mode": {
    "name": "ipython",
    "version": 3
   },
   "file_extension": ".py",
   "mimetype": "text/x-python",
   "name": "python",
   "nbconvert_exporter": "python",
   "pygments_lexer": "ipython3",
   "version": "3.11.9"
  }
 },
 "nbformat": 4,
 "nbformat_minor": 2
}
